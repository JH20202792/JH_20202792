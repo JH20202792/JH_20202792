{
  "metadata": {
    "kernelspec": {
      "display_name": "Python 3",
      "language": "python",
      "name": "python3"
    },
    "language_info": {
      "name": "python",
      "version": "3.7.12",
      "mimetype": "text/x-python",
      "codemirror_mode": {
        "name": "ipython",
        "version": 3
      },
      "pygments_lexer": "ipython3",
      "nbconvert_exporter": "python",
      "file_extension": ".py"
    },
    "colab": {
      "name": "2022-05-29-exercise-proximity-analysis.ipynb",
      "provenance": []
    }
  },
  "nbformat_minor": 0,
  "nbformat": 4,
  "cells": [
    {
      "cell_type": "markdown",
      "source": [
        "# \"exercise-proximity-analysis\"\n",
        "> \"exercise-proximity-analysis\"\n",
        "\n",
        "- toc:true\n",
        "- branch: master\n",
        "- badges: true\n",
        "- comments: true\n",
        "- author: Yunjihye\n",
        "- categories: [jupyter, python]"
      ],
      "metadata": {
        "id": "X5NkSFDzmh3c"
      }
    },
    {
      "cell_type": "markdown",
      "source": [
        "**This notebook is an exercise in the [Geospatial Analysis](https://www.kaggle.com/learn/geospatial-analysis) course.  You can reference the tutorial at [this link](https://www.kaggle.com/alexisbcook/proximity-analysis).**\n",
        "\n",
        "---\n"
      ],
      "metadata": {
        "id": "B9bto8Jxma9p"
      }
    },
    {
      "cell_type": "markdown",
      "source": [
        "# Introduction \n",
        "\n",
        "You are part of a crisis response team, and you want to identify how hospitals have been responding to crash collisions in New York City.\n",
        "\n",
        "<center>\n",
        "<img src=\"https://i.imgur.com/wamd0n7.png\" width=\"450\"><br/>\n",
        "</center>\n",
        "\n",
        "Before you get started, run the code cell below to set everything up."
      ],
      "metadata": {
        "id": "Xut1pUHBma9u"
      }
    },
    {
      "cell_type": "code",
      "source": [
        "import math\n",
        "import geopandas as gpd\n",
        "import pandas as pd\n",
        "from shapely.geometry import MultiPolygon\n",
        "\n",
        "import folium\n",
        "from folium import Choropleth, Marker\n",
        "from folium.plugins import HeatMap, MarkerCluster\n",
        "\n",
        "from learntools.core import binder\n",
        "binder.bind(globals())\n",
        "from learntools.geospatial.ex5 import *"
      ],
      "metadata": {
        "execution": {
          "iopub.status.busy": "2022-05-29T11:02:06.451280Z",
          "iopub.execute_input": "2022-05-29T11:02:06.452103Z",
          "iopub.status.idle": "2022-05-29T11:02:42.641521Z",
          "shell.execute_reply.started": "2022-05-29T11:02:06.451976Z",
          "shell.execute_reply": "2022-05-29T11:02:42.640521Z"
        },
        "trusted": true,
        "id": "DtJQRAnYma9v"
      },
      "execution_count": null,
      "outputs": []
    },
    {
      "cell_type": "markdown",
      "source": [
        "You'll use the `embed_map()` function to visualize your maps."
      ],
      "metadata": {
        "id": "m0rqUsMTma9w"
      }
    },
    {
      "cell_type": "code",
      "source": [
        "def embed_map(m, file_name):\n",
        "    from IPython.display import IFrame\n",
        "    m.save(file_name)\n",
        "    return IFrame(file_name, width='100%', height='500px')"
      ],
      "metadata": {
        "execution": {
          "iopub.status.busy": "2022-05-29T11:07:55.497768Z",
          "iopub.execute_input": "2022-05-29T11:07:55.498860Z",
          "iopub.status.idle": "2022-05-29T11:07:55.503948Z",
          "shell.execute_reply.started": "2022-05-29T11:07:55.498813Z",
          "shell.execute_reply": "2022-05-29T11:07:55.503222Z"
        },
        "trusted": true,
        "id": "jkGnIOMHma9x"
      },
      "execution_count": null,
      "outputs": []
    },
    {
      "cell_type": "markdown",
      "source": [
        "# Exercises\n",
        "\n",
        "### 1) Visualize the collision data.\n",
        "\n",
        "Run the code cell below to load a GeoDataFrame `collisions` tracking major motor vehicle collisions in 2013-2018."
      ],
      "metadata": {
        "id": "U04lBuLxma9x"
      }
    },
    {
      "cell_type": "code",
      "source": [
        "collisions = gpd.read_file(\"../input/geospatial-learn-course-data/NYPD_Motor_Vehicle_Collisions/NYPD_Motor_Vehicle_Collisions/NYPD_Motor_Vehicle_Collisions.shp\")\n",
        "collisions.head()"
      ],
      "metadata": {
        "execution": {
          "iopub.status.busy": "2022-05-29T11:08:07.374639Z",
          "iopub.execute_input": "2022-05-29T11:08:07.375644Z",
          "iopub.status.idle": "2022-05-29T11:08:41.512502Z",
          "shell.execute_reply.started": "2022-05-29T11:08:07.375601Z",
          "shell.execute_reply": "2022-05-29T11:08:41.511628Z"
        },
        "trusted": true,
        "id": "AyPoVykyma9x"
      },
      "execution_count": null,
      "outputs": []
    },
    {
      "cell_type": "markdown",
      "source": [
        "Use the \"LATITUDE\" and \"LONGITUDE\" columns to create an interactive map to visualize the collision data.  What type of map do you think is most effective?"
      ],
      "metadata": {
        "id": "2muoJ6Pwma9y"
      }
    },
    {
      "cell_type": "code",
      "source": [
        "m_1 = folium.Map(location=[40.7, -74], zoom_start=11) \n",
        "\n",
        "# Visualize the collision data\n",
        "HeatMap(data=collisions[['LATITUDE', 'LONGITUDE']], radius=9).add_to(m_1)\n",
        "\n",
        "# Show the map\n",
        "embed_map(m_1, \"q_1.html\")"
      ],
      "metadata": {
        "execution": {
          "iopub.status.busy": "2022-05-29T11:10:00.167908Z",
          "iopub.execute_input": "2022-05-29T11:10:00.168332Z",
          "iopub.status.idle": "2022-05-29T11:10:05.635015Z",
          "shell.execute_reply.started": "2022-05-29T11:10:00.168295Z",
          "shell.execute_reply": "2022-05-29T11:10:05.634087Z"
        },
        "trusted": true,
        "id": "R5GMfrnJma9y"
      },
      "execution_count": null,
      "outputs": []
    },
    {
      "cell_type": "markdown",
      "source": [
        "### 2) Understand hospital coverage.\n",
        "\n",
        "Run the next code cell to load the hospital data."
      ],
      "metadata": {
        "id": "MQ0GUnVxma9y"
      }
    },
    {
      "cell_type": "code",
      "source": [
        "hospitals = gpd.read_file(\"../input/geospatial-learn-course-data/nyu_2451_34494/nyu_2451_34494/nyu_2451_34494.shp\")\n",
        "hospitals.head()"
      ],
      "metadata": {
        "execution": {
          "iopub.status.busy": "2022-05-29T11:10:18.374969Z",
          "iopub.execute_input": "2022-05-29T11:10:18.375373Z",
          "iopub.status.idle": "2022-05-29T11:10:18.522257Z",
          "shell.execute_reply.started": "2022-05-29T11:10:18.375318Z",
          "shell.execute_reply": "2022-05-29T11:10:18.521102Z"
        },
        "trusted": true,
        "id": "p6UHTlV0ma9z"
      },
      "execution_count": null,
      "outputs": []
    },
    {
      "cell_type": "markdown",
      "source": [
        "Use the \"latitude\" and \"longitude\" columns to visualize the hospital locations. "
      ],
      "metadata": {
        "id": "lhGrHcvxma9z"
      }
    },
    {
      "cell_type": "code",
      "source": [
        "m_2 = folium.Map(location=[40.7, -74], zoom_start=11) \n",
        "\n",
        "# Visualize the hospital locations\n",
        "for idx, row in hospitals.iterrows():\n",
        "    Marker([row['latitude'], row['longitude']], popup=row['name']).add_to(m_2)\n",
        "    \n",
        "# Show the map\n",
        "embed_map(m_2, \"q_2.html\")"
      ],
      "metadata": {
        "execution": {
          "iopub.status.busy": "2022-05-29T11:10:57.879344Z",
          "iopub.execute_input": "2022-05-29T11:10:57.879952Z",
          "iopub.status.idle": "2022-05-29T11:10:57.994079Z",
          "shell.execute_reply.started": "2022-05-29T11:10:57.879904Z",
          "shell.execute_reply": "2022-05-29T11:10:57.993035Z"
        },
        "trusted": true,
        "id": "IsUUEQeCma9z"
      },
      "execution_count": null,
      "outputs": []
    },
    {
      "cell_type": "markdown",
      "source": [
        "### 3) When was the closest hospital more than 10 kilometers away?\n",
        "\n",
        "Create a DataFrame `outside_range` containing all rows from `collisions` with crashes that occurred more than 10 kilometers from the closest hospital.\n",
        "\n",
        "Note that both `hospitals` and `collisions` have EPSG 2263 as the coordinate reference system, and EPSG 2263 has units of meters."
      ],
      "metadata": {
        "id": "QA7l-oZ_ma90"
      }
    },
    {
      "cell_type": "code",
      "source": [
        "coverage = gpd.GeoDataFrame(geometry=hospitals.geometry).buffer(10000)\n",
        "my_union = coverage.geometry.unary_union\n",
        "outside_range = collisions.loc[~collisions[\"geometry\"].apply(lambda x: my_union.contains(x))]"
      ],
      "metadata": {
        "execution": {
          "iopub.status.busy": "2022-05-29T11:11:29.773667Z",
          "iopub.execute_input": "2022-05-29T11:11:29.774561Z",
          "iopub.status.idle": "2022-05-29T11:12:50.918173Z",
          "shell.execute_reply.started": "2022-05-29T11:11:29.774523Z",
          "shell.execute_reply": "2022-05-29T11:12:50.917288Z"
        },
        "trusted": true,
        "id": "a9NTzT5ima90"
      },
      "execution_count": null,
      "outputs": []
    },
    {
      "cell_type": "code",
      "source": [
        "percentage = round(100*len(outside_range)/len(collisions), 2)\n",
        "print(\"Percentage of collisions more than 10 km away from the closest hospital: {}%\".format(percentage))"
      ],
      "metadata": {
        "execution": {
          "iopub.status.busy": "2022-05-29T11:13:02.638179Z",
          "iopub.execute_input": "2022-05-29T11:13:02.638656Z",
          "iopub.status.idle": "2022-05-29T11:13:02.644239Z",
          "shell.execute_reply.started": "2022-05-29T11:13:02.638615Z",
          "shell.execute_reply": "2022-05-29T11:13:02.643199Z"
        },
        "trusted": true,
        "id": "63jBnhs6ma90"
      },
      "execution_count": null,
      "outputs": []
    },
    {
      "cell_type": "markdown",
      "source": [
        "### 4) Make a recommender.\n",
        "\n",
        "When collisions occur in distant locations, it becomes even more vital that injured persons are transported to the nearest available hospital.\n",
        "\n",
        "With this in mind, you decide to create a recommender that:\n",
        "- takes the location of the crash (in EPSG 2263) as input,\n",
        "- finds the closest hospital (where distance calculations are done in EPSG 2263), and \n",
        "- returns the name of the closest hospital. "
      ],
      "metadata": {
        "id": "GYYUgBZKma90"
      }
    },
    {
      "cell_type": "code",
      "source": [
        "def best_hospital(collision_location):\n",
        "    idx_min = hospitals.geometry.distance(collision_location).idxmin()\n",
        "    my_hospital = hospitals.iloc[idx_min]\n",
        "    name = my_hospital[\"name\"]\n",
        "    return name\n",
        "\n",
        "# this should suggest CALVARY HOSPITAL INC\n",
        "print(best_hospital(outside_range.geometry.iloc[0]))"
      ],
      "metadata": {
        "execution": {
          "iopub.status.busy": "2022-05-29T11:13:33.619294Z",
          "iopub.execute_input": "2022-05-29T11:13:33.620229Z",
          "iopub.status.idle": "2022-05-29T11:13:33.637583Z",
          "shell.execute_reply.started": "2022-05-29T11:13:33.620188Z",
          "shell.execute_reply": "2022-05-29T11:13:33.636403Z"
        },
        "trusted": true,
        "id": "RJLKUyDQma91"
      },
      "execution_count": null,
      "outputs": []
    },
    {
      "cell_type": "markdown",
      "source": [
        "### 5) Which hospital is under the highest demand?\n",
        "\n",
        "Considering only collisions in the `outside_range` DataFrame, which hospital is most recommended?  \n",
        "\n",
        "Your answer should be a Python string that exactly matches the name of the hospital returned by the function you created in **4)**."
      ],
      "metadata": {
        "id": "bcrSUxASma91"
      }
    },
    {
      "cell_type": "code",
      "source": [
        "highest_demand = outside_range.geometry.apply(best_hospital).value_counts().idxmax()"
      ],
      "metadata": {
        "execution": {
          "iopub.status.busy": "2022-05-29T11:13:57.568870Z",
          "iopub.execute_input": "2022-05-29T11:13:57.569247Z",
          "iopub.status.idle": "2022-05-29T11:14:23.036678Z",
          "shell.execute_reply.started": "2022-05-29T11:13:57.569218Z",
          "shell.execute_reply": "2022-05-29T11:14:23.035583Z"
        },
        "trusted": true,
        "id": "IQHZprLMma91"
      },
      "execution_count": null,
      "outputs": []
    },
    {
      "cell_type": "markdown",
      "source": [
        "### 6) Where should the city construct new hospitals?\n",
        "\n",
        "Run the next code cell (without changes) to visualize hospital locations, in addition to collisions that occurred more than 10 kilometers away from the closest hospital. "
      ],
      "metadata": {
        "id": "NHdTcqboma92"
      }
    },
    {
      "cell_type": "code",
      "source": [
        "m_6 = folium.Map(location=[40.7, -74], zoom_start=11) \n",
        "\n",
        "coverage = gpd.GeoDataFrame(geometry=hospitals.geometry).buffer(10000)\n",
        "folium.GeoJson(coverage.geometry.to_crs(epsg=4326)).add_to(m_6)\n",
        "HeatMap(data=outside_range[['LATITUDE', 'LONGITUDE']], radius=9).add_to(m_6)\n",
        "folium.LatLngPopup().add_to(m_6)\n",
        "\n",
        "embed_map(m_6, 'm_6.html')"
      ],
      "metadata": {
        "scrolled": true,
        "execution": {
          "iopub.status.busy": "2022-05-29T11:14:23.038511Z",
          "iopub.execute_input": "2022-05-29T11:14:23.038968Z",
          "iopub.status.idle": "2022-05-29T11:14:24.121401Z",
          "shell.execute_reply.started": "2022-05-29T11:14:23.038925Z",
          "shell.execute_reply": "2022-05-29T11:14:24.120306Z"
        },
        "trusted": true,
        "id": "aFwCSRjFma92"
      },
      "execution_count": null,
      "outputs": []
    },
    {
      "cell_type": "markdown",
      "source": [
        "Click anywhere on the map to see a pop-up with the corresponding location in latitude and longitude.\n",
        "\n",
        "The city of New York reaches out to you for help with deciding locations for two brand new hospitals.  They specifically want your help with identifying locations to bring the calculated percentage from step **3)** to less than ten percent.  Using the map (and without worrying about zoning laws or what potential buildings would have to be removed in order to build the hospitals), can you identify two locations that would help the city accomplish this goal?  \n",
        "\n",
        "Put the proposed latitude and longitude for hospital 1 in `lat_1` and `long_1`, respectively.  (Likewise for hospital 2.)\n",
        "\n",
        "Then, run the rest of the cell as-is to see the effect of the new hospitals.  Your answer will be marked correct, if the two new hospitals bring the percentage to less than ten percent."
      ],
      "metadata": {
        "id": "uqv8kiMHma92"
      }
    },
    {
      "cell_type": "code",
      "source": [
        "# Proposed location of hospital 1\n",
        "lat_1 = 40.6714\n",
        "long_1 = -73.8492\n",
        "\n",
        "# Proposed location of hospital 2\n",
        "lat_2 = 40.6702\n",
        "long_2 = -73.7612\n",
        "\n",
        "# Do not modify the code below this line\n",
        "try:\n",
        "    new_df = pd.DataFrame(\n",
        "        {'Latitude': [lat_1, lat_2],\n",
        "         'Longitude': [long_1, long_2]})\n",
        "    new_gdf = gpd.GeoDataFrame(new_df, geometry=gpd.points_from_xy(new_df.Longitude, new_df.Latitude))\n",
        "    new_gdf.crs = {'init' :'epsg:4326'}\n",
        "    new_gdf = new_gdf.to_crs(epsg=2263)\n",
        "    # get new percentage\n",
        "    new_coverage = gpd.GeoDataFrame(geometry=new_gdf.geometry).buffer(10000)\n",
        "    new_my_union = new_coverage.geometry.unary_union\n",
        "    new_outside_range = outside_range.loc[~outside_range[\"geometry\"].apply(lambda x: new_my_union.contains(x))]\n",
        "    new_percentage = round(100*len(new_outside_range)/len(collisions), 2)\n",
        "    print(\"(NEW) Percentage of collisions more than 10 km away from the closest hospital: {}%\".format(new_percentage))\n",
        "    # Did you help the city to meet its goal?\n",
        "    q_6.check()\n",
        "    # make the map\n",
        "    m = folium.Map(location=[40.7, -74], zoom_start=11) \n",
        "    folium.GeoJson(coverage.geometry.to_crs(epsg=4326)).add_to(m)\n",
        "    folium.GeoJson(new_coverage.geometry.to_crs(epsg=4326)).add_to(m)\n",
        "    for idx, row in new_gdf.iterrows():\n",
        "        Marker([row['Latitude'], row['Longitude']]).add_to(m)\n",
        "    HeatMap(data=new_outside_range[['LATITUDE', 'LONGITUDE']], radius=9).add_to(m)\n",
        "    folium.LatLngPopup().add_to(m)\n",
        "    display(embed_map(m, 'q_6.html'))\n",
        "except:\n",
        "    q_6.hint()"
      ],
      "metadata": {
        "execution": {
          "iopub.status.busy": "2022-05-29T11:15:19.507983Z",
          "iopub.execute_input": "2022-05-29T11:15:19.508392Z",
          "iopub.status.idle": "2022-05-29T11:15:24.479914Z",
          "shell.execute_reply.started": "2022-05-29T11:15:19.508344Z",
          "shell.execute_reply": "2022-05-29T11:15:24.479066Z"
        },
        "trusted": true,
        "id": "4CzHWO2nma93"
      },
      "execution_count": null,
      "outputs": []
    },
    {
      "cell_type": "markdown",
      "source": [
        "# Congratulations!\n",
        "\n",
        "You have just completed the Geospatial Analysis micro-course!  Great job!"
      ],
      "metadata": {
        "id": "TTZzjsqKma93"
      }
    },
    {
      "cell_type": "markdown",
      "source": [
        "---\n",
        "\n",
        "\n",
        "\n",
        "\n",
        "*Have questions or comments? Visit the [course discussion forum](https://www.kaggle.com/learn/geospatial-analysis/discussion) to chat with other learners.*"
      ],
      "metadata": {
        "id": "AeSqWnVmma93"
      }
    }
  ]
}