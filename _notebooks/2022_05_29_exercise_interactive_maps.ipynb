{
  "metadata": {
    "kernelspec": {
      "language": "python",
      "display_name": "Python 3",
      "name": "python3"
    },
    "language_info": {
      "name": "python",
      "version": "3.7.12",
      "mimetype": "text/x-python",
      "codemirror_mode": {
        "name": "ipython",
        "version": 3
      },
      "pygments_lexer": "ipython3",
      "nbconvert_exporter": "python",
      "file_extension": ".py"
    },
    "colab": {
      "name": "2022-05-29-exercise-interactive-maps.ipynb",
      "provenance": []
    }
  },
  "nbformat_minor": 0,
  "nbformat": 4,
  "cells": [
    {
      "cell_type": "markdown",
      "source": [
        "# \"exercise-interactive-maps\"\n",
        "> \"exercise-interactive-maps\"\n",
        "\n",
        "- toc:true\n",
        "- branch: master\n",
        "- badges: true\n",
        "- comments: true\n",
        "- author: Yunjihye\n",
        "- categories: [jupyter, python]"
      ],
      "metadata": {
        "id": "fXJVm8n4ljTR"
      }
    },
    {
      "cell_type": "markdown",
      "source": [
        "**This notebook is an exercise in the [Geospatial Analysis](https://www.kaggle.com/learn/geospatial-analysis) course.  You can reference the tutorial at [this link](https://www.kaggle.com/alexisbcook/interactive-maps).**\n",
        "\n",
        "---\n"
      ],
      "metadata": {
        "id": "L13IUkCklhc9"
      }
    },
    {
      "cell_type": "markdown",
      "source": [
        "# Introduction\n",
        "\n",
        "You are an urban safety planner in Japan, and you are analyzing which areas of Japan need extra earthquake reinforcement.  Which areas are both high in population density and prone to earthquakes?\n",
        "\n",
        "<center>\n",
        "<img src=\"https://i.imgur.com/Kuh9gPj.png\" width=\"450\"><br/>\n",
        "</center>\n",
        "\n",
        "Before you get started, run the code cell below to set everything up."
      ],
      "metadata": {
        "id": "Z6WabPbqlhdD"
      }
    },
    {
      "cell_type": "code",
      "source": [
        "import pandas as pd\n",
        "import geopandas as gpd\n",
        "\n",
        "import folium\n",
        "from folium import Choropleth\n",
        "from folium.plugins import HeatMap\n",
        "\n",
        "from learntools.core import binder\n",
        "binder.bind(globals())\n",
        "from learntools.geospatial.ex3 import *"
      ],
      "metadata": {
        "execution": {
          "iopub.status.busy": "2022-05-28T17:21:01.510677Z",
          "iopub.execute_input": "2022-05-28T17:21:01.511175Z",
          "iopub.status.idle": "2022-05-28T17:21:01.518659Z",
          "shell.execute_reply.started": "2022-05-28T17:21:01.511138Z",
          "shell.execute_reply": "2022-05-28T17:21:01.517525Z"
        },
        "trusted": true,
        "id": "0FfWT1V0lhdF"
      },
      "execution_count": null,
      "outputs": []
    },
    {
      "cell_type": "markdown",
      "source": [
        "We define a function `embed_map()` for displaying interactive maps. It accepts two arguments: the variable containing the map, and the name of the HTML file where the map will be saved.\n",
        "\n",
        "This function ensures that the maps are visible [in all web browsers](https://github.com/python-visualization/folium/issues/812)."
      ],
      "metadata": {
        "id": "rPK9KIEIlhdI"
      }
    },
    {
      "cell_type": "code",
      "source": [
        "def embed_map(m, file_name):\n",
        "    from IPython.display import IFrame\n",
        "    m.save(file_name)\n",
        "    return IFrame(file_name, width='100%', height='500px')"
      ],
      "metadata": {
        "execution": {
          "iopub.status.busy": "2022-05-28T17:21:02.752944Z",
          "iopub.execute_input": "2022-05-28T17:21:02.754133Z",
          "iopub.status.idle": "2022-05-28T17:21:02.761213Z",
          "shell.execute_reply.started": "2022-05-28T17:21:02.754084Z",
          "shell.execute_reply": "2022-05-28T17:21:02.760127Z"
        },
        "trusted": true,
        "id": "LwX7FCyplhdJ"
      },
      "execution_count": null,
      "outputs": []
    },
    {
      "cell_type": "markdown",
      "source": [
        "# Exercises\n",
        "\n",
        "### 1) Do earthquakes coincide with plate boundaries?\n",
        "\n",
        "Run the code cell below to create a DataFrame `plate_boundaries` that shows global plate boundaries.  The \"coordinates\" column is a list of (latitude, longitude) locations along the boundaries."
      ],
      "metadata": {
        "id": "cDcgM-CTlhdJ"
      }
    },
    {
      "cell_type": "code",
      "source": [
        "plate_boundaries = gpd.read_file(\"../input/geospatial-learn-course-data/Plate_Boundaries/Plate_Boundaries/Plate_Boundaries.shp\")\n",
        "plate_boundaries['coordinates'] = plate_boundaries.apply(lambda x: [(b,a) for (a,b) in list(x.geometry.coords)], axis='columns')\n",
        "plate_boundaries.drop('geometry', axis=1, inplace=True)\n",
        "\n",
        "plate_boundaries.head()"
      ],
      "metadata": {
        "execution": {
          "iopub.status.busy": "2022-05-28T17:21:04.455964Z",
          "iopub.execute_input": "2022-05-28T17:21:04.456620Z",
          "iopub.status.idle": "2022-05-28T17:21:04.685419Z",
          "shell.execute_reply.started": "2022-05-28T17:21:04.456578Z",
          "shell.execute_reply": "2022-05-28T17:21:04.684504Z"
        },
        "trusted": true,
        "id": "iyPjdhEdlhdK"
      },
      "execution_count": null,
      "outputs": []
    },
    {
      "cell_type": "markdown",
      "source": [
        "Next, run the code cell below without changes to load the historical earthquake data into a DataFrame `earthquakes`."
      ],
      "metadata": {
        "id": "EpvqLELslhdL"
      }
    },
    {
      "cell_type": "code",
      "source": [
        "# Load the data and print the first 5 rows\n",
        "earthquakes = pd.read_csv(\"../input/geospatial-learn-course-data/earthquakes1970-2014.csv\", parse_dates=[\"DateTime\"])\n",
        "earthquakes.head()"
      ],
      "metadata": {
        "execution": {
          "iopub.status.busy": "2022-05-28T17:21:06.496050Z",
          "iopub.execute_input": "2022-05-28T17:21:06.496695Z",
          "iopub.status.idle": "2022-05-28T17:21:06.536093Z",
          "shell.execute_reply.started": "2022-05-28T17:21:06.496659Z",
          "shell.execute_reply": "2022-05-28T17:21:06.535338Z"
        },
        "trusted": true,
        "id": "V5tnFsZllhdL"
      },
      "execution_count": null,
      "outputs": []
    },
    {
      "cell_type": "markdown",
      "source": [
        "The code cell below visualizes the plate boundaries on a map.  Use all of the earthquake data to add a heatmap to the same map, to determine whether earthquakes coincide with plate boundaries.  "
      ],
      "metadata": {
        "id": "YpFA6XdylhdM"
      }
    },
    {
      "cell_type": "code",
      "source": [
        "# Create a base map with plate boundaries\n",
        "m_1 = folium.Map(location=[35,136], tiles='cartodbpositron', zoom_start=5)\n",
        "for i in range(len(plate_boundaries)):\n",
        "    folium.PolyLine(locations=plate_boundaries.coordinates.iloc[i], weight=2, color='black').add_to(m_1)\n",
        "\n",
        "# Add a heatmap to the map\n",
        "HeatMap(data=earthquakes[['Latitude', 'Longitude']], radius=15).add_to(m_1)\n",
        "\n",
        "# Show the map\n",
        "embed_map(m_1, 'q_1.html')"
      ],
      "metadata": {
        "execution": {
          "iopub.status.busy": "2022-05-28T17:21:07.514534Z",
          "iopub.execute_input": "2022-05-28T17:21:07.515547Z",
          "iopub.status.idle": "2022-05-28T17:21:08.081827Z",
          "shell.execute_reply.started": "2022-05-28T17:21:07.515483Z",
          "shell.execute_reply": "2022-05-28T17:21:08.080919Z"
        },
        "trusted": true,
        "id": "E8YszcfGlhdN"
      },
      "execution_count": null,
      "outputs": []
    },
    {
      "cell_type": "markdown",
      "source": [
        "So, given the map above, do earthquakes coincide with plate boundaries?"
      ],
      "metadata": {
        "id": "4oDiYdXTlhdN"
      }
    },
    {
      "cell_type": "code",
      "source": [
        "# solution\n",
        "Yes, earthquakes coincide with plate boundaries."
      ],
      "metadata": {
        "execution": {
          "iopub.status.busy": "2022-05-28T17:21:08.637022Z",
          "iopub.execute_input": "2022-05-28T17:21:08.637785Z",
          "iopub.status.idle": "2022-05-28T17:21:08.644016Z",
          "shell.execute_reply.started": "2022-05-28T17:21:08.637741Z",
          "shell.execute_reply": "2022-05-28T17:21:08.642749Z"
        },
        "trusted": true,
        "id": "hgD32cyClhdO"
      },
      "execution_count": null,
      "outputs": []
    },
    {
      "cell_type": "markdown",
      "source": [
        "### 2) Is there a relationship between earthquake depth and proximity to a plate boundary in Japan?\n",
        "\n",
        "You recently read that the depth of earthquakes tells us [important information](https://www.usgs.gov/faqs/what-depth-do-earthquakes-occur-what-significance-depth?qt-news_science_products=0#qt-news_science_products) about the structure of the earth.  You're interested to see if there are any intereresting global patterns, and you'd also like to understand how depth varies in Japan.\n",
        "\n"
      ],
      "metadata": {
        "id": "LXWLqjLulhdO"
      }
    },
    {
      "cell_type": "code",
      "source": [
        "# Create a base map with plate boundaries\n",
        "m_2 = folium.Map(location=[35,136], tiles='cartodbpositron', zoom_start=5)\n",
        "for i in range(len(plate_boundaries)):\n",
        "    folium.PolyLine(locations=plate_boundaries.coordinates.iloc[i], weight=2, color='black').add_to(m_2)\n",
        "    \n",
        "# Custom function to assign a color to each circle\n",
        "def color_producer(val):\n",
        "    if val < 50:\n",
        "        return 'forestgreen'\n",
        "    elif val < 100:\n",
        "        return 'darkorange'\n",
        "    else:\n",
        "        return 'darkred'\n",
        "\n",
        "# Add a map to visualize earthquake depth\n",
        "for i in range(0,len(earthquakes)):\n",
        "    folium.Circle(\n",
        "        location=[earthquakes.iloc[i]['Latitude'], earthquakes.iloc[i]['Longitude']],\n",
        "        radius=2000,\n",
        "        color=color_producer(earthquakes.iloc[i]['Depth'])).add_to(m_2)\n",
        "\n",
        "# View the map\n",
        "embed_map(m_2, 'q_2.html')"
      ],
      "metadata": {
        "execution": {
          "iopub.status.busy": "2022-05-28T17:21:11.905434Z",
          "iopub.execute_input": "2022-05-28T17:21:11.905961Z",
          "iopub.status.idle": "2022-05-28T17:21:19.006389Z",
          "shell.execute_reply.started": "2022-05-28T17:21:11.905916Z",
          "shell.execute_reply": "2022-05-28T17:21:19.005651Z"
        },
        "trusted": true,
        "id": "rf7aCWZKlhdO"
      },
      "execution_count": null,
      "outputs": []
    },
    {
      "cell_type": "markdown",
      "source": [
        "Can you detect a relationship between proximity to a plate boundary and earthquake depth?  Does this pattern hold globally?  In Japan?"
      ],
      "metadata": {
        "id": "deRpj_8hlhdP"
      }
    },
    {
      "cell_type": "code",
      "source": [
        "# solution\n",
        "In the northern half of Japan, it does appear that earthquakes closer to plate boundaries tend to be shallower (and earthquakes farther from plate boundaries are deeper). \n",
        "This pattern is repeated in other locations, such as the western coast of South America. \n",
        "But, it does not hold everywhere (for instance, in China, Mongolia, and Russia)."
      ],
      "metadata": {
        "execution": {
          "iopub.status.busy": "2022-05-28T17:21:19.008063Z",
          "iopub.execute_input": "2022-05-28T17:21:19.008579Z",
          "iopub.status.idle": "2022-05-28T17:21:19.015015Z",
          "shell.execute_reply.started": "2022-05-28T17:21:19.008542Z",
          "shell.execute_reply": "2022-05-28T17:21:19.013882Z"
        },
        "trusted": true,
        "id": "A9RpGwNHlhdP"
      },
      "execution_count": null,
      "outputs": []
    },
    {
      "cell_type": "markdown",
      "source": [
        "### 3) Which prefectures have high population density?\n",
        "\n",
        "Run the next code cell (without changes) to create a GeoDataFrame `prefectures` that contains the geographical boundaries of Japanese prefectures."
      ],
      "metadata": {
        "id": "4UVVUgb0lhdQ"
      }
    },
    {
      "cell_type": "code",
      "source": [
        "# GeoDataFrame with prefecture boundaries\n",
        "prefectures = gpd.read_file(\"../input/geospatial-learn-course-data/japan-prefecture-boundaries/japan-prefecture-boundaries/japan-prefecture-boundaries.shp\")\n",
        "prefectures.set_index('prefecture', inplace=True)\n",
        "prefectures.head()"
      ],
      "metadata": {
        "execution": {
          "iopub.status.busy": "2022-05-28T17:22:17.386112Z",
          "iopub.execute_input": "2022-05-28T17:22:17.387059Z",
          "iopub.status.idle": "2022-05-28T17:22:18.252467Z",
          "shell.execute_reply.started": "2022-05-28T17:22:17.387010Z",
          "shell.execute_reply": "2022-05-28T17:22:18.251706Z"
        },
        "trusted": true,
        "id": "dosmjoEwlhdQ"
      },
      "execution_count": null,
      "outputs": []
    },
    {
      "cell_type": "markdown",
      "source": [
        "The next code cell creates a DataFrame `stats` containing the population, area (in square kilometers), and population density (per square kilometer) for each Japanese prefecture.  Run the code cell without changes."
      ],
      "metadata": {
        "id": "LFHL3gPZlhdQ"
      }
    },
    {
      "cell_type": "code",
      "source": [
        "# DataFrame containing population of each prefecture\n",
        "population = pd.read_csv(\"../input/geospatial-learn-course-data/japan-prefecture-population.csv\")\n",
        "population.set_index('prefecture', inplace=True)\n",
        "\n",
        "# Calculate area (in square kilometers) of each prefecture\n",
        "area_sqkm = pd.Series(prefectures.geometry.to_crs(epsg=32654).area / 10**6, name='area_sqkm')\n",
        "stats = population.join(area_sqkm)\n",
        "\n",
        "# Add density (per square kilometer) of each prefecture\n",
        "stats['density'] = stats[\"population\"] / stats[\"area_sqkm\"]\n",
        "stats.head()"
      ],
      "metadata": {
        "execution": {
          "iopub.status.busy": "2022-05-28T17:22:19.837701Z",
          "iopub.execute_input": "2022-05-28T17:22:19.838596Z",
          "iopub.status.idle": "2022-05-28T17:22:20.171375Z",
          "shell.execute_reply.started": "2022-05-28T17:22:19.838550Z",
          "shell.execute_reply": "2022-05-28T17:22:20.170255Z"
        },
        "trusted": true,
        "id": "3bCFvPkglhdR"
      },
      "execution_count": null,
      "outputs": []
    },
    {
      "cell_type": "markdown",
      "source": [
        "Use the next code cell to create a choropleth map to visualize population density."
      ],
      "metadata": {
        "id": "durIP7DflhdR"
      }
    },
    {
      "cell_type": "code",
      "source": [
        "# Create a base map\n",
        "m_3 = folium.Map(location=[35,136], tiles='cartodbpositron', zoom_start=5)\n",
        "\n",
        "# create a choropleth map to visualize population density\n",
        "Choropleth(geo_data=prefectures['geometry'].__geo_interface__,\n",
        "           data=stats['density'],\n",
        "           key_on=\"feature.id\",\n",
        "           fill_color='YlGnBu',\n",
        "           legend_name='Population density (per square kilometer)'\n",
        "          ).add_to(m_3)\n",
        "\n",
        "# View the map\n",
        "embed_map(m_3, 'q_3.html')"
      ],
      "metadata": {
        "execution": {
          "iopub.status.busy": "2022-05-28T17:22:22.072221Z",
          "iopub.execute_input": "2022-05-28T17:22:22.072727Z",
          "iopub.status.idle": "2022-05-28T17:22:31.996478Z",
          "shell.execute_reply.started": "2022-05-28T17:22:22.072686Z",
          "shell.execute_reply": "2022-05-28T17:22:31.995489Z"
        },
        "trusted": true,
        "id": "N2sBkp7vlhdR"
      },
      "execution_count": null,
      "outputs": []
    },
    {
      "cell_type": "markdown",
      "source": [
        "Which three prefectures have relatively higher density than the others?  Are they spread throughout the country, or all located in roughly the same geographical region?  (*If you're unfamiliar with Japanese geography, you might find [this map](https://en.wikipedia.org/wiki/Prefectures_of_Japan) useful to answer the questions.)*"
      ],
      "metadata": {
        "id": "SdIGYHxilhdR"
      }
    },
    {
      "cell_type": "code",
      "source": [
        "# solution\n",
        "Tokyo, Kanagawa, and Osaka have the highest population density. \n",
        "All of these prefectures are located in central Japan, and Tokyo and Kanagawa are adjacent."
      ],
      "metadata": {
        "execution": {
          "iopub.status.busy": "2022-05-28T17:22:31.998586Z",
          "iopub.execute_input": "2022-05-28T17:22:31.999263Z",
          "iopub.status.idle": "2022-05-28T17:22:32.005986Z",
          "shell.execute_reply.started": "2022-05-28T17:22:31.999213Z",
          "shell.execute_reply": "2022-05-28T17:22:32.004745Z"
        },
        "trusted": true,
        "id": "-9jxNYAdlhdS"
      },
      "execution_count": null,
      "outputs": []
    },
    {
      "cell_type": "markdown",
      "source": [
        "### 4) Which high-density prefecture is prone to high-magnitude earthquakes?\n",
        "\n",
        "Create a map to suggest one prefecture that might benefit from earthquake reinforcement.  Your map should visualize both density and earthquake magnitude."
      ],
      "metadata": {
        "id": "HSRrZoeslhdS"
      }
    },
    {
      "cell_type": "code",
      "source": [
        "# Create a base map\n",
        "m_4 = folium.Map(location=[35,136], tiles='cartodbpositron', zoom_start=5)\n",
        "\n",
        "# Your code here: create a map\n",
        "def color_producer(magnitude):\n",
        "    if magnitude > 6.5:\n",
        "        return 'red'\n",
        "    else:\n",
        "        return 'green'\n",
        "\n",
        "Choropleth(\n",
        "    geo_data=prefectures['geometry'].__geo_interface__,\n",
        "    data=stats['density'],\n",
        "    key_on=\"feature.id\",\n",
        "    fill_color='BuPu',\n",
        "    legend_name='Population density (per square kilometer)').add_to(m_4)\n",
        "\n",
        "for i in range(0,len(earthquakes)):\n",
        "    folium.Circle(\n",
        "        location=[earthquakes.iloc[i]['Latitude'], earthquakes.iloc[i]['Longitude']],\n",
        "        popup=(\"{} ({})\").format(\n",
        "            earthquakes.iloc[i]['Magnitude'],\n",
        "            earthquakes.iloc[i]['DateTime'].year),\n",
        "        radius=earthquakes.iloc[i]['Magnitude']**5.5,\n",
        "        color=color_producer(earthquakes.iloc[i]['Magnitude'])).add_to(m_4)\n",
        "\n",
        "# View the map\n",
        "embed_map(m_4, 'q_4.html')"
      ],
      "metadata": {
        "execution": {
          "iopub.status.busy": "2022-05-28T17:22:32.007484Z",
          "iopub.status.idle": "2022-05-28T17:22:32.008357Z",
          "shell.execute_reply.started": "2022-05-28T17:22:32.008071Z",
          "shell.execute_reply": "2022-05-28T17:22:32.008102Z"
        },
        "trusted": true,
        "id": "5-7AZgYTlhdS"
      },
      "execution_count": null,
      "outputs": []
    },
    {
      "cell_type": "markdown",
      "source": [
        "Which prefecture do you recommend for extra earthquake reinforcement?"
      ],
      "metadata": {
        "id": "DDnSl-p4lhdS"
      }
    },
    {
      "cell_type": "code",
      "source": [
        "# solution\n",
        "While there's no clear, single answer to this question, there are a few reasonable options. \n",
        "Tokyo is by far the most densely populated prefecture and has also experienced a number of earthquakes. \n",
        "Osaka is relatively less densely populated, but experienced an earthquake that was relatively stronger than those near Tokyo. \n",
        "And, the long coast of Kanagawa (in addition to its high density and the historical proximity of strong earthquakes) might lead us to worry about the added potential tsunami risk."
      ],
      "metadata": {
        "execution": {
          "iopub.status.busy": "2022-05-28T17:22:32.009896Z",
          "iopub.status.idle": "2022-05-28T17:22:32.010721Z",
          "shell.execute_reply.started": "2022-05-28T17:22:32.010409Z",
          "shell.execute_reply": "2022-05-28T17:22:32.010437Z"
        },
        "trusted": true,
        "id": "vBK0J1LPlhdS"
      },
      "execution_count": null,
      "outputs": []
    },
    {
      "cell_type": "markdown",
      "source": [
        "# Keep going\n",
        "\n",
        "Learn how to convert names of places to geographic coordinates with **[geocoding](https://www.kaggle.com/alexisbcook/manipulating-geospatial-data)**.  You'll also explore special ways to join information from multiple GeoDataFrames."
      ],
      "metadata": {
        "id": "s5hN1E0HlhdT"
      }
    },
    {
      "cell_type": "markdown",
      "source": [
        "---\n",
        "\n",
        "\n",
        "\n",
        "\n",
        "*Have questions or comments? Visit the [course discussion forum](https://www.kaggle.com/learn/geospatial-analysis/discussion) to chat with other learners.*"
      ],
      "metadata": {
        "id": "dwExWFTDlhdT"
      }
    }
  ]
}