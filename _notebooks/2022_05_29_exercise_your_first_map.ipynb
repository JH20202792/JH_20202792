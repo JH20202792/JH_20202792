{
  "metadata": {
    "kernelspec": {
      "language": "python",
      "display_name": "Python 3",
      "name": "python3"
    },
    "language_info": {
      "name": "python",
      "version": "3.7.12",
      "mimetype": "text/x-python",
      "codemirror_mode": {
        "name": "ipython",
        "version": 3
      },
      "pygments_lexer": "ipython3",
      "nbconvert_exporter": "python",
      "file_extension": ".py"
    },
    "colab": {
      "name": "2022-05-29-exercise-your-first-map.ipynb",
      "provenance": [],
      "collapsed_sections": []
    }
  },
  "nbformat_minor": 0,
  "nbformat": 4,
  "cells": [
    {
      "cell_type": "markdown",
      "source": [
        "# \"exercise-your-first-map\"\n",
        "> \"exercise-your-first-map\"\n",
        "\n",
        "- toc:true\n",
        "- branch: master\n",
        "- badges: true\n",
        "- comments: true\n",
        "- author: Yunjihye\n",
        "- categories: [jupyter, python]"
      ],
      "metadata": {
        "id": "-YJaxAhxZT5U"
      }
    },
    {
      "cell_type": "markdown",
      "source": [
        "**This notebook is an exercise in the [Geospatial Analysis](https://www.kaggle.com/learn/geospatial-analysis) course.  You can reference the tutorial at [this link](https://www.kaggle.com/alexisbcook/your-first-map).**\n",
        "\n",
        "---\n"
      ],
      "metadata": {
        "id": "9txL7I4KYrgt"
      }
    },
    {
      "cell_type": "markdown",
      "source": [
        "# Introduction\n",
        "\n",
        "[Kiva.org](https://www.kiva.org/) is an online crowdfunding platform extending financial services to poor people around the world. Kiva lenders have provided over $1 billion dollars in loans to over 2 million people.\n",
        "\n",
        "<center>\n",
        "<img src=\"https://i.imgur.com/2G8C53X.png\" width=\"500\"><br/>\n",
        "</center>\n",
        "\n",
        "Kiva reaches some of the most remote places in the world through their global network of \"Field Partners\". These partners are local organizations working in communities to vet borrowers, provide services, and administer loans.\n",
        "\n",
        "In this exercise, you'll investigate Kiva loans in the Philippines.  Can you identify regions that might be outside of Kiva's current network, in order to identify opportunities for recruiting new Field Partners?\n",
        "\n",
        "To get started, run the code cell below to set up our feedback system."
      ],
      "metadata": {
        "id": "cWR-UwXzYrg1"
      }
    },
    {
      "cell_type": "code",
      "source": [
        "import geopandas as gpd\n",
        "\n",
        "from learntools.core import binder\n",
        "binder.bind(globals())\n",
        "from learntools.geospatial.ex1 import *"
      ],
      "metadata": {
        "execution": {
          "iopub.status.busy": "2022-05-28T14:38:34.069068Z",
          "iopub.execute_input": "2022-05-28T14:38:34.069582Z",
          "iopub.status.idle": "2022-05-28T14:38:34.073876Z",
          "shell.execute_reply.started": "2022-05-28T14:38:34.069534Z",
          "shell.execute_reply": "2022-05-28T14:38:34.073239Z"
        },
        "trusted": true,
        "id": "TqGgbOGEYrg2"
      },
      "execution_count": null,
      "outputs": []
    },
    {
      "cell_type": "markdown",
      "source": [
        "### 1) Get the data.\n",
        "\n",
        "Use the next cell to load the shapefile located at `loans_filepath` to create a GeoDataFrame `world_loans`.  "
      ],
      "metadata": {
        "id": "s5Fk-HXUYrg4"
      }
    },
    {
      "cell_type": "code",
      "source": [
        "loans_filepath = \"../input/geospatial-learn-course-data/kiva_loans/kiva_loans/kiva_loans.shp\"\n",
        "\n",
        "# Load the data\n",
        "world_loans = gpd.read_file(loans_filepath)\n",
        "\n",
        "# Uncomment to view the first five rows of the data\n",
        "world_loans.head()"
      ],
      "metadata": {
        "execution": {
          "iopub.status.busy": "2022-05-28T14:38:35.637390Z",
          "iopub.execute_input": "2022-05-28T14:38:35.638023Z",
          "iopub.status.idle": "2022-05-28T14:38:36.728634Z",
          "shell.execute_reply.started": "2022-05-28T14:38:35.637991Z",
          "shell.execute_reply": "2022-05-28T14:38:36.728059Z"
        },
        "trusted": true,
        "id": "xjCxCdW_Yrg5"
      },
      "execution_count": null,
      "outputs": []
    },
    {
      "cell_type": "markdown",
      "source": [
        "### 2) Plot the data.\n",
        "\n",
        "Run the next code cell without changes to load a GeoDataFrame `world` containing country boundaries."
      ],
      "metadata": {
        "id": "xMXPUU91Yrg5"
      }
    },
    {
      "cell_type": "code",
      "source": [
        "# This dataset is provided in GeoPandas\n",
        "world_filepath = gpd.datasets.get_path('naturalearth_lowres')\n",
        "world = gpd.read_file(world_filepath)\n",
        "world.head()"
      ],
      "metadata": {
        "execution": {
          "iopub.status.busy": "2022-05-28T14:38:36.729766Z",
          "iopub.execute_input": "2022-05-28T14:38:36.730159Z",
          "iopub.status.idle": "2022-05-28T14:38:36.824028Z",
          "shell.execute_reply.started": "2022-05-28T14:38:36.730132Z",
          "shell.execute_reply": "2022-05-28T14:38:36.823404Z"
        },
        "trusted": true,
        "id": "Wxl-seFgYrg6"
      },
      "execution_count": null,
      "outputs": []
    },
    {
      "cell_type": "markdown",
      "source": [
        "Use the `world` and `world_loans` GeoDataFrames to visualize Kiva loan locations across the world."
      ],
      "metadata": {
        "id": "QYicZDTCYrg7"
      }
    },
    {
      "cell_type": "code",
      "source": [
        "# Your code here\n",
        "world.plot()\n",
        "world_loans.plot()"
      ],
      "metadata": {
        "execution": {
          "iopub.status.busy": "2022-05-28T14:38:37.569434Z",
          "iopub.execute_input": "2022-05-28T14:38:37.569973Z",
          "iopub.status.idle": "2022-05-28T14:38:40.367297Z",
          "shell.execute_reply.started": "2022-05-28T14:38:37.569940Z",
          "shell.execute_reply": "2022-05-28T14:38:40.366341Z"
        },
        "trusted": true,
        "id": "aolqODAKYrg8"
      },
      "execution_count": null,
      "outputs": []
    },
    {
      "cell_type": "code",
      "source": [
        "ax = world.plot(figsize=(20,20), color='whitesmoke', linestyle=':', edgecolor='black')\n",
        "world_loans.plot(ax=ax, markersize=2)"
      ],
      "metadata": {
        "execution": {
          "iopub.status.busy": "2022-05-28T14:38:40.368732Z",
          "iopub.execute_input": "2022-05-28T14:38:40.369067Z",
          "iopub.status.idle": "2022-05-28T14:38:43.063236Z",
          "shell.execute_reply.started": "2022-05-28T14:38:40.369038Z",
          "shell.execute_reply": "2022-05-28T14:38:43.062587Z"
        },
        "trusted": true,
        "id": "9E0Iy13dYrg-"
      },
      "execution_count": null,
      "outputs": []
    },
    {
      "cell_type": "markdown",
      "source": [
        "### 3) Select loans based in the Philippines.\n",
        "\n",
        "Next, you'll focus on loans that are based in the Philippines.  Use the next code cell to create a GeoDataFrame `PHL_loans` which contains all rows from `world_loans` with loans that are based in the Philippines."
      ],
      "metadata": {
        "id": "xlfHl5VdYrg_"
      }
    },
    {
      "cell_type": "code",
      "source": [
        "PHL_loans = world_loans.loc[world_loans['country']==\"Philippines\"].copy()\n",
        "PHL_loans"
      ],
      "metadata": {
        "execution": {
          "iopub.status.busy": "2022-05-28T14:38:43.064130Z",
          "iopub.execute_input": "2022-05-28T14:38:43.064934Z",
          "iopub.status.idle": "2022-05-28T14:38:43.095862Z",
          "shell.execute_reply.started": "2022-05-28T14:38:43.064898Z",
          "shell.execute_reply": "2022-05-28T14:38:43.095017Z"
        },
        "trusted": true,
        "id": "VJZHTby4YrhA"
      },
      "execution_count": null,
      "outputs": []
    },
    {
      "cell_type": "markdown",
      "source": [
        "### 4) Understand loans in the Philippines.\n",
        "\n",
        "Run the next code cell without changes to load a GeoDataFrame `PHL` containing boundaries for all islands in the Philippines."
      ],
      "metadata": {
        "id": "p99PLj-TYrhA"
      }
    },
    {
      "cell_type": "code",
      "source": [
        "# Load a KML file containing island boundaries\n",
        "gpd.io.file.fiona.drvsupport.supported_drivers['KML'] = 'rw'\n",
        "PHL = gpd.read_file(\"../input/geospatial-learn-course-data/Philippines_AL258.kml\", driver='KML')\n",
        "PHL.head()"
      ],
      "metadata": {
        "execution": {
          "iopub.status.busy": "2022-05-28T14:38:43.097544Z",
          "iopub.execute_input": "2022-05-28T14:38:43.097845Z",
          "iopub.status.idle": "2022-05-28T14:38:47.662726Z",
          "shell.execute_reply.started": "2022-05-28T14:38:43.097802Z",
          "shell.execute_reply": "2022-05-28T14:38:47.661880Z"
        },
        "trusted": true,
        "id": "Ou-zh5DtYrhB"
      },
      "execution_count": null,
      "outputs": []
    },
    {
      "cell_type": "markdown",
      "source": [
        "Use the `PHL` and `PHL_loans` GeoDataFrames to visualize loans in the Philippines."
      ],
      "metadata": {
        "id": "70lFXnycYrhC"
      }
    },
    {
      "cell_type": "code",
      "source": [
        "ax = PHL.plot(figsize=(12,12), color='whitesmoke', linestyle=':', edgecolor='lightgray')\n",
        "PHL_loans.plot(ax=ax, markersize=2)"
      ],
      "metadata": {
        "execution": {
          "iopub.status.busy": "2022-05-28T14:38:47.663924Z",
          "iopub.execute_input": "2022-05-28T14:38:47.664234Z",
          "iopub.status.idle": "2022-05-28T14:38:50.553605Z",
          "shell.execute_reply.started": "2022-05-28T14:38:47.664206Z",
          "shell.execute_reply": "2022-05-28T14:38:50.552703Z"
        },
        "trusted": true,
        "id": "CsS60UZWYrhC"
      },
      "execution_count": null,
      "outputs": []
    },
    {
      "cell_type": "markdown",
      "source": [
        "Can you identify any islands where it might be useful to recruit new Field Partners?  Do any islands currently look outside of Kiva's reach?\n",
        "\n",
        "You might find [this map](https://bit.ly/2U2G7x7) useful to answer the question."
      ],
      "metadata": {
        "id": "ZS39Y2EqYrhD"
      }
    },
    {
      "cell_type": "code",
      "source": [
        "# solution\n",
        "There are a number of potential islands, but Mindoro (in the central part of the Philippines) stands out as a relatively large island without any loans in the current dataset. \n",
        "This island is potentially a good location for recruiting new Field Partners!"
      ],
      "metadata": {
        "execution": {
          "iopub.status.busy": "2022-05-28T14:38:50.555136Z",
          "iopub.execute_input": "2022-05-28T14:38:50.555700Z",
          "iopub.status.idle": "2022-05-28T14:38:50.562838Z",
          "shell.execute_reply.started": "2022-05-28T14:38:50.555656Z",
          "shell.execute_reply": "2022-05-28T14:38:50.561856Z"
        },
        "trusted": true,
        "id": "UntefKWIYrhD"
      },
      "execution_count": null,
      "outputs": []
    },
    {
      "cell_type": "markdown",
      "source": [
        "# Keep going\n",
        "\n",
        "Continue to learn about **[coordinate reference systems](https://www.kaggle.com/alexisbcook/coordinate-reference-systems)**."
      ],
      "metadata": {
        "id": "g2SrCnrGYrhE"
      }
    },
    {
      "cell_type": "markdown",
      "source": [
        "---\n",
        "\n",
        "\n",
        "\n",
        "\n",
        "*Have questions or comments? Visit the [course discussion forum](https://www.kaggle.com/learn/geospatial-analysis/discussion) to chat with other learners.*"
      ],
      "metadata": {
        "id": "KFgn-IJjYrhF"
      }
    }
  ]
}