{
  "metadata": {
    "kernelspec": {
      "language": "python",
      "display_name": "Python 3",
      "name": "python3"
    },
    "language_info": {
      "name": "python",
      "version": "3.7.12",
      "mimetype": "text/x-python",
      "codemirror_mode": {
        "name": "ipython",
        "version": 3
      },
      "pygments_lexer": "ipython3",
      "nbconvert_exporter": "python",
      "file_extension": ".py"
    },
    "colab": {
      "name": "2022-05-29-exercise-manipulating-geospatial-data.ipynb",
      "provenance": []
    }
  },
  "nbformat_minor": 0,
  "nbformat": 4,
  "cells": [
    {
      "cell_type": "markdown",
      "source": [
        "# \"exercise-manipulating-geospatial-data\"\n",
        "> \"exercise-manipulating-geospatial-data\"\n",
        "\n",
        "- toc:true\n",
        "- branch: master\n",
        "- badges: true\n",
        "- comments: true\n",
        "- author: Yunjihye\n",
        "- categories: [jupyter, python]"
      ],
      "metadata": {
        "id": "-ssStuLsl9gZ"
      }
    },
    {
      "cell_type": "markdown",
      "source": [
        "**This notebook is an exercise in the [Geospatial Analysis](https://www.kaggle.com/learn/geospatial-analysis) course.  You can reference the tutorial at [this link](https://www.kaggle.com/alexisbcook/manipulating-geospatial-data).**\n",
        "\n",
        "---\n"
      ],
      "metadata": {
        "id": "-XjzF0fql9Ch"
      }
    },
    {
      "cell_type": "markdown",
      "source": [
        "# Introduction\n",
        "\n",
        "You are a Starbucks big data analyst ([that’s a real job!](https://www.forbes.com/sites/bernardmarr/2018/05/28/starbucks-using-big-data-analytics-and-artificial-intelligence-to-boost-performance/#130c7d765cdc)) looking to find the next store into a [Starbucks Reserve Roastery](https://www.businessinsider.com/starbucks-reserve-roastery-compared-regular-starbucks-2018-12#also-on-the-first-floor-was-the-main-coffee-bar-five-hourglass-like-units-hold-the-freshly-roasted-coffee-beans-that-are-used-in-each-order-the-selection-rotates-seasonally-5).  These roasteries are much larger than a typical Starbucks store and have several additional features, including various food and wine options, along with upscale lounge areas.  You'll investigate the demographics of various counties in the state of California, to determine potentially suitable locations.\n",
        "\n",
        "<center>\n",
        "<img src=\"https://i.imgur.com/BIyE6kR.png\" width=\"450\"><br/><br/>\n",
        "</center>\n",
        "\n",
        "Before you get started, run the code cell below to set everything up."
      ],
      "metadata": {
        "id": "IonwZN0hl9Cn"
      }
    },
    {
      "cell_type": "code",
      "source": [
        "import math\n",
        "import pandas as pd\n",
        "import geopandas as gpd\n",
        "#from geopy.geocoders import Nominatim            # What you'd normally run\n",
        "from learntools.geospatial.tools import Nominatim # Just for this exercise\n",
        "\n",
        "import folium \n",
        "from folium import Marker\n",
        "from folium.plugins import MarkerCluster\n",
        "\n",
        "from learntools.core import binder\n",
        "binder.bind(globals())\n",
        "from learntools.geospatial.ex4 import *"
      ],
      "metadata": {
        "execution": {
          "iopub.status.busy": "2022-05-29T10:48:54.310045Z",
          "iopub.execute_input": "2022-05-29T10:48:54.310485Z",
          "iopub.status.idle": "2022-05-29T10:48:56.595670Z",
          "shell.execute_reply.started": "2022-05-29T10:48:54.310386Z",
          "shell.execute_reply": "2022-05-29T10:48:56.594682Z"
        },
        "trusted": true,
        "id": "qeiEpGcol9Co"
      },
      "execution_count": null,
      "outputs": []
    },
    {
      "cell_type": "markdown",
      "source": [
        "You'll use the `embed_map()` function from the previous exercise to visualize your maps."
      ],
      "metadata": {
        "id": "RrNiuecGl9Cq"
      }
    },
    {
      "cell_type": "code",
      "source": [
        "def embed_map(m, file_name):\n",
        "    from IPython.display import IFrame\n",
        "    m.save(file_name)\n",
        "    return IFrame(file_name, width='100%', height='500px')"
      ],
      "metadata": {
        "execution": {
          "iopub.status.busy": "2022-05-29T10:49:05.578517Z",
          "iopub.execute_input": "2022-05-29T10:49:05.578955Z",
          "iopub.status.idle": "2022-05-29T10:49:05.584009Z",
          "shell.execute_reply.started": "2022-05-29T10:49:05.578919Z",
          "shell.execute_reply": "2022-05-29T10:49:05.583315Z"
        },
        "trusted": true,
        "id": "H82i_H2tl9Cq"
      },
      "execution_count": null,
      "outputs": []
    },
    {
      "cell_type": "markdown",
      "source": [
        "# Exercises\n",
        "\n",
        "### 1) Geocode the missing locations.\n",
        "\n",
        "Run the next code cell to create a DataFrame `starbucks` containing Starbucks locations in the state of California."
      ],
      "metadata": {
        "id": "H1O0_5W6l9Cr"
      }
    },
    {
      "cell_type": "code",
      "source": [
        "# Load and preview Starbucks locations in California\n",
        "starbucks = pd.read_csv(\"../input/geospatial-learn-course-data/starbucks_locations.csv\")\n",
        "starbucks.head()"
      ],
      "metadata": {
        "execution": {
          "iopub.status.busy": "2022-05-29T10:49:08.769198Z",
          "iopub.execute_input": "2022-05-29T10:49:08.769585Z",
          "iopub.status.idle": "2022-05-29T10:49:08.804846Z",
          "shell.execute_reply.started": "2022-05-29T10:49:08.769555Z",
          "shell.execute_reply": "2022-05-29T10:49:08.803901Z"
        },
        "trusted": true,
        "id": "tz18vRXkl9Cs"
      },
      "execution_count": null,
      "outputs": []
    },
    {
      "cell_type": "markdown",
      "source": [
        "Most of the stores have known (latitude, longitude) locations.  But, all of the locations in the city of Berkeley are missing."
      ],
      "metadata": {
        "id": "hyAc55uyl9Ct"
      }
    },
    {
      "cell_type": "code",
      "source": [
        "# How many rows in each column have missing values?\n",
        "print(starbucks.isnull().sum())\n",
        "\n",
        "# View rows with missing locations\n",
        "rows_with_missing = starbucks[starbucks[\"City\"]==\"Berkeley\"]\n",
        "rows_with_missing"
      ],
      "metadata": {
        "execution": {
          "iopub.status.busy": "2022-05-29T10:49:15.564508Z",
          "iopub.execute_input": "2022-05-29T10:49:15.564892Z",
          "iopub.status.idle": "2022-05-29T10:49:15.584919Z",
          "shell.execute_reply.started": "2022-05-29T10:49:15.564849Z",
          "shell.execute_reply": "2022-05-29T10:49:15.583945Z"
        },
        "trusted": true,
        "id": "fOSn0z-el9Ct"
      },
      "execution_count": null,
      "outputs": []
    },
    {
      "cell_type": "markdown",
      "source": [
        "Use the code cell below to fill in these values with the Nominatim geocoder.\n",
        "\n",
        "Note that in the tutorial, we used `Nominatim()` (from `geopy.geocoders`) to geocode values, and this is what you can use in your own projects outside of this course.  \n",
        "\n",
        "In this exercise, you will use a slightly different function `Nominatim()` (from `learntools.geospatial.tools`).  This function was imported at the top of the notebook and works identically to the function from GeoPandas.\n",
        "\n",
        "So, in other words, as long as: \n",
        "- you don't change the import statements at the top of the notebook, and \n",
        "- you call the geocoding function as `geocode()` in the code cell below, \n",
        "\n",
        "your code will work as intended!"
      ],
      "metadata": {
        "id": "eBq_MKBUl9Cu"
      }
    },
    {
      "cell_type": "code",
      "source": [
        "# Create the geocoder\n",
        "geolocator = Nominatim(user_agent=\"kaggle_learn\")\n",
        "\n",
        "def my_geocoder(row):\n",
        "    point = geolocator.geocode(row).point\n",
        "    return pd.Series({'Latitude': point.latitude, 'Longitude': point.longitude})\n",
        "\n",
        "berkeley_locations = rows_with_missing.apply(lambda x: my_geocoder(x['Address']), axis=1)\n",
        "starbucks.update(berkeley_locations)"
      ],
      "metadata": {
        "execution": {
          "iopub.status.busy": "2022-05-29T10:49:17.305804Z",
          "iopub.execute_input": "2022-05-29T10:49:17.306259Z",
          "iopub.status.idle": "2022-05-29T10:49:17.593345Z",
          "shell.execute_reply.started": "2022-05-29T10:49:17.306224Z",
          "shell.execute_reply": "2022-05-29T10:49:17.592735Z"
        },
        "trusted": true,
        "id": "6w3P3fizl9Cv"
      },
      "execution_count": null,
      "outputs": []
    },
    {
      "cell_type": "markdown",
      "source": [
        "### 2) View Berkeley locations.\n",
        "\n",
        "Let's take a look at the locations you just found.  Visualize the (latitude, longitude) locations in Berkeley in the OpenStreetMap style. "
      ],
      "metadata": {
        "id": "l_lFu72Dl9Cw"
      }
    },
    {
      "cell_type": "code",
      "source": [
        "# Create a base map\n",
        "m_2 = folium.Map(location=[37.88,-122.26], zoom_start=13)\n",
        "\n",
        "# Add a marker for each Berkeley location\n",
        "for idx, row in starbucks[starbucks[\"City\"]=='Berkeley'].iterrows():\n",
        "    Marker([row['Latitude'], row['Longitude']]).add_to(m_2)\n",
        "    \n",
        "# Show the map\n",
        "embed_map(m_2, 'q_2.html')"
      ],
      "metadata": {
        "execution": {
          "iopub.status.busy": "2022-05-29T10:49:23.865533Z",
          "iopub.execute_input": "2022-05-29T10:49:23.866294Z",
          "iopub.status.idle": "2022-05-29T10:49:23.896236Z",
          "shell.execute_reply.started": "2022-05-29T10:49:23.866255Z",
          "shell.execute_reply": "2022-05-29T10:49:23.895313Z"
        },
        "trusted": true,
        "id": "8V345YYcl9Cw"
      },
      "execution_count": null,
      "outputs": []
    },
    {
      "cell_type": "markdown",
      "source": [
        "Considering only the five locations in Berkeley, how many of the (latitude, longitude) locations seem potentially correct (are located in the correct city)?"
      ],
      "metadata": {
        "id": "8ATCJUxwl9Cx"
      }
    },
    {
      "cell_type": "code",
      "source": [
        "# solution\n",
        "All five locations appear to be correct!"
      ],
      "metadata": {
        "execution": {
          "iopub.status.busy": "2022-05-29T10:49:30.312697Z",
          "iopub.execute_input": "2022-05-29T10:49:30.313710Z",
          "iopub.status.idle": "2022-05-29T10:49:30.320537Z",
          "shell.execute_reply.started": "2022-05-29T10:49:30.313653Z",
          "shell.execute_reply": "2022-05-29T10:49:30.319001Z"
        },
        "trusted": true,
        "id": "XufBNZfLl9Cx"
      },
      "execution_count": null,
      "outputs": []
    },
    {
      "cell_type": "markdown",
      "source": [
        "### 3) Consolidate your data.\n",
        "\n",
        "Run the code below to load a GeoDataFrame `CA_counties` containing the name, area (in square kilometers), and a unique id (in the \"GEOID\" column) for each county in the state of California.  The \"geometry\" column contains a polygon with county boundaries."
      ],
      "metadata": {
        "id": "ESMNFWuGl9Cx"
      }
    },
    {
      "cell_type": "code",
      "source": [
        "CA_counties = gpd.read_file(\"../input/geospatial-learn-course-data/CA_county_boundaries/CA_county_boundaries/CA_county_boundaries.shp\")\n",
        "CA_counties.head()"
      ],
      "metadata": {
        "execution": {
          "iopub.status.busy": "2022-05-29T10:49:34.869502Z",
          "iopub.execute_input": "2022-05-29T10:49:34.870417Z",
          "iopub.status.idle": "2022-05-29T10:49:35.193917Z",
          "shell.execute_reply.started": "2022-05-29T10:49:34.870365Z",
          "shell.execute_reply": "2022-05-29T10:49:35.193024Z"
        },
        "trusted": true,
        "id": "U7g-DGrkl9Cy"
      },
      "execution_count": null,
      "outputs": []
    },
    {
      "cell_type": "markdown",
      "source": [
        "Next, we create three DataFrames:\n",
        "- `CA_pop` contains an estimate of the population of each county.\n",
        "- `CA_high_earners` contains the number of households with an income of at least $150,000 per year.\n",
        "- `CA_median_age` contains the median age for each county."
      ],
      "metadata": {
        "id": "_mzeBQnUl9Cy"
      }
    },
    {
      "cell_type": "code",
      "source": [
        "CA_pop = pd.read_csv(\"../input/geospatial-learn-course-data/CA_county_population.csv\", index_col=\"GEOID\")\n",
        "CA_high_earners = pd.read_csv(\"../input/geospatial-learn-course-data/CA_county_high_earners.csv\", index_col=\"GEOID\")\n",
        "CA_median_age = pd.read_csv(\"../input/geospatial-learn-course-data/CA_county_median_age.csv\", index_col=\"GEOID\")"
      ],
      "metadata": {
        "execution": {
          "iopub.status.busy": "2022-05-29T10:49:36.953418Z",
          "iopub.execute_input": "2022-05-29T10:49:36.953784Z",
          "iopub.status.idle": "2022-05-29T10:49:36.968305Z",
          "shell.execute_reply.started": "2022-05-29T10:49:36.953756Z",
          "shell.execute_reply": "2022-05-29T10:49:36.967262Z"
        },
        "trusted": true,
        "id": "m9HI6HHZl9Cy"
      },
      "execution_count": null,
      "outputs": []
    },
    {
      "cell_type": "markdown",
      "source": [
        "Use the next code cell to join the `CA_counties` GeoDataFrame with `CA_pop`, `CA_high_earners`, and `CA_median_age`.\n",
        "\n",
        "Name the resultant GeoDataFrame `CA_stats`, and make sure it has 8 columns: \"GEOID\", \"name\", \"area_sqkm\", \"geometry\", \"population\", \"high_earners\", and \"median_age\".  Also, make sure the CRS is set to `{'init': 'epsg:4326'}`."
      ],
      "metadata": {
        "id": "tglaXkNwl9Cz"
      }
    },
    {
      "cell_type": "code",
      "source": [
        "cols_to_add = CA_pop.join([CA_high_earners, CA_median_age]).reset_index()\n",
        "CA_stats = CA_counties.merge(cols_to_add, on=\"GEOID\")\n",
        "CA_stats.crs = {'init': 'epsg:4326'}"
      ],
      "metadata": {
        "execution": {
          "iopub.status.busy": "2022-05-29T10:49:38.711732Z",
          "iopub.execute_input": "2022-05-29T10:49:38.712140Z",
          "iopub.status.idle": "2022-05-29T10:49:39.024130Z",
          "shell.execute_reply.started": "2022-05-29T10:49:38.712104Z",
          "shell.execute_reply": "2022-05-29T10:49:39.023258Z"
        },
        "trusted": true,
        "id": "X-_uVxPJl9Cz"
      },
      "execution_count": null,
      "outputs": []
    },
    {
      "cell_type": "markdown",
      "source": [
        "Now that we have all of the data in one place, it's much easier to calculate statistics that use a combination of columns.  Run the next code cell to create a \"density\" column with the population density."
      ],
      "metadata": {
        "id": "NotBqsAdl9C0"
      }
    },
    {
      "cell_type": "code",
      "source": [
        "CA_stats[\"density\"] = CA_stats[\"population\"] / CA_stats[\"area_sqkm\"]"
      ],
      "metadata": {
        "execution": {
          "iopub.status.busy": "2022-05-29T10:49:45.374668Z",
          "iopub.execute_input": "2022-05-29T10:49:45.375598Z",
          "iopub.status.idle": "2022-05-29T10:49:45.381659Z",
          "shell.execute_reply.started": "2022-05-29T10:49:45.375559Z",
          "shell.execute_reply": "2022-05-29T10:49:45.380693Z"
        },
        "trusted": true,
        "id": "EmToDlTNl9C0"
      },
      "execution_count": null,
      "outputs": []
    },
    {
      "cell_type": "markdown",
      "source": [
        "### 4) Which counties look promising?\n",
        "\n",
        "Collapsing all of the information into a single GeoDataFrame also makes it much easier to select counties that meet specific criteria.\n",
        "\n",
        "Use the next code cell to create a GeoDataFrame `sel_counties` that contains a subset of the rows (and all of the columns) from the `CA_stats` GeoDataFrame.  In particular, you should select counties where:\n",
        "- there are at least 100,000 households making \\$150,000 per year,\n",
        "- the median age is less than 38.5, and\n",
        "- the density of inhabitants is at least 285 (per square kilometer).\n",
        "\n",
        "Additionally, selected counties should satisfy at least one of the following criteria:\n",
        "- there are at least 500,000 households making \\$150,000 per year,\n",
        "- the median age is less than 35.5, or\n",
        "- the density of inhabitants is at least 1400 (per square kilometer)."
      ],
      "metadata": {
        "id": "f6HwZLFRl9C0"
      }
    },
    {
      "cell_type": "code",
      "source": [
        "sel_counties = CA_stats[((CA_stats.high_earners > 100000) &\n",
        "                         (CA_stats.median_age < 38.5) &\n",
        "                         (CA_stats.density > 285) &\n",
        "                         ((CA_stats.median_age < 35.5) |\n",
        "                         (CA_stats.density > 1400) |\n",
        "                         (CA_stats.high_earners > 500000)))]"
      ],
      "metadata": {
        "execution": {
          "iopub.status.busy": "2022-05-29T10:51:39.019042Z",
          "iopub.execute_input": "2022-05-29T10:51:39.019440Z",
          "iopub.status.idle": "2022-05-29T10:51:39.037587Z",
          "shell.execute_reply.started": "2022-05-29T10:51:39.019412Z",
          "shell.execute_reply": "2022-05-29T10:51:39.036679Z"
        },
        "trusted": true,
        "id": "RvuVEDyFl9C0"
      },
      "execution_count": null,
      "outputs": []
    },
    {
      "cell_type": "markdown",
      "source": [
        "### 5) How many stores did you identify?\n",
        "\n",
        "When looking for the next Starbucks Reserve Roastery location, you'd like to consider all of the stores within the counties that you selected.  So, how many stores are within the selected counties?\n",
        "\n",
        "To prepare to answer this question, run the next code cell to create a GeoDataFrame `starbucks_gdf` with all of the starbucks locations."
      ],
      "metadata": {
        "id": "ATbOoYNrl9C1"
      }
    },
    {
      "cell_type": "code",
      "source": [
        "starbucks_gdf = gpd.GeoDataFrame(starbucks, geometry=gpd.points_from_xy(starbucks.Longitude, starbucks.Latitude))\n",
        "starbucks_gdf.crs = {'init': 'epsg:4326'}"
      ],
      "metadata": {
        "execution": {
          "iopub.status.busy": "2022-05-29T10:51:49.613173Z",
          "iopub.execute_input": "2022-05-29T10:51:49.613546Z",
          "iopub.status.idle": "2022-05-29T10:51:49.631517Z",
          "shell.execute_reply.started": "2022-05-29T10:51:49.613515Z",
          "shell.execute_reply": "2022-05-29T10:51:49.630530Z"
        },
        "trusted": true,
        "id": "wIvEC5gyl9C1"
      },
      "execution_count": null,
      "outputs": []
    },
    {
      "cell_type": "markdown",
      "source": [
        "So, how many stores are in the counties you selected?"
      ],
      "metadata": {
        "id": "TqN_v5lMl9C1"
      }
    },
    {
      "cell_type": "code",
      "source": [
        "# Fill in your answer\n",
        "locations_of_interest = gpd.sjoin(starbucks_gdf, sel_counties)\n",
        "num_stores = len(locations_of_interest)"
      ],
      "metadata": {
        "execution": {
          "iopub.status.busy": "2022-05-29T10:52:02.711943Z",
          "iopub.execute_input": "2022-05-29T10:52:02.712304Z",
          "iopub.status.idle": "2022-05-29T10:52:02.811821Z",
          "shell.execute_reply.started": "2022-05-29T10:52:02.712277Z",
          "shell.execute_reply": "2022-05-29T10:52:02.810962Z"
        },
        "trusted": true,
        "id": "WcUfObQml9C1"
      },
      "execution_count": null,
      "outputs": []
    },
    {
      "cell_type": "markdown",
      "source": [
        "### 6) Visualize the store locations.\n",
        "\n",
        "Create a map that shows the locations of the stores that you identified in the previous question."
      ],
      "metadata": {
        "id": "nk1-uYwXl9C2"
      }
    },
    {
      "cell_type": "code",
      "source": [
        "# Create a base map\n",
        "m_6 = folium.Map(location=[37,-120], zoom_start=6)\n",
        "\n",
        "# show selected store locations\n",
        "mc = MarkerCluster()\n",
        "\n",
        "locations_of_interest = gpd.sjoin(starbucks_gdf, sel_counties)\n",
        "for idx, row in locations_of_interest.iterrows():\n",
        "    if not math.isnan(row['Longitude']) and not math.isnan(row['Latitude']):\n",
        "        mc.add_child(folium.Marker([row['Latitude'], row['Longitude']]))\n",
        "\n",
        "m_6.add_child(mc)\n",
        "\n",
        "# Show the map\n",
        "embed_map(m_6, 'q_6.html')"
      ],
      "metadata": {
        "execution": {
          "iopub.status.busy": "2022-05-29T10:52:13.397515Z",
          "iopub.execute_input": "2022-05-29T10:52:13.398483Z",
          "iopub.status.idle": "2022-05-29T10:52:14.278561Z",
          "shell.execute_reply.started": "2022-05-29T10:52:13.398434Z",
          "shell.execute_reply": "2022-05-29T10:52:14.277627Z"
        },
        "trusted": true,
        "id": "sq3ihK2Jl9C2"
      },
      "execution_count": null,
      "outputs": []
    },
    {
      "cell_type": "markdown",
      "source": [
        "# Keep going\n",
        "\n",
        "Learn about how **[proximity analysis](https://www.kaggle.com/alexisbcook/proximity-analysis)** can help you to understand the relationships between points on a map."
      ],
      "metadata": {
        "id": "sPiRG9Uhl9C2"
      }
    },
    {
      "cell_type": "markdown",
      "source": [
        "---\n",
        "\n",
        "\n",
        "\n",
        "\n",
        "*Have questions or comments? Visit the [course discussion forum](https://www.kaggle.com/learn/geospatial-analysis/discussion) to chat with other learners.*"
      ],
      "metadata": {
        "id": "Fy0tGk05l9C2"
      }
    }
  ]
}