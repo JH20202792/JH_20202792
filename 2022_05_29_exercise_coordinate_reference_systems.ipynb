{
  "metadata": {
    "kernelspec": {
      "display_name": "Python 3",
      "language": "python",
      "name": "python3"
    },
    "language_info": {
      "name": "python",
      "version": "3.7.12",
      "mimetype": "text/x-python",
      "codemirror_mode": {
        "name": "ipython",
        "version": 3
      },
      "pygments_lexer": "ipython3",
      "nbconvert_exporter": "python",
      "file_extension": ".py"
    },
    "colab": {
      "name": "2022-05-29-exercise-coordinate-reference-systems.ipynb",
      "provenance": []
    }
  },
  "nbformat_minor": 0,
  "nbformat": 4,
  "cells": [
    {
      "cell_type": "markdown",
      "source": [
        "# \"exercise-coordinate-reference-systems\"\n",
        "> \"exercise-coordinate-reference-systems\"\n",
        "\n",
        "- toc:true\n",
        "- branch: master\n",
        "- badges: true\n",
        "- comments: true\n",
        "- author: Yunjihye\n",
        "- categories: [jupyter, python]"
      ],
      "metadata": {
        "id": "xfhc3TMmlAjM"
      }
    },
    {
      "cell_type": "markdown",
      "source": [
        "**This notebook is an exercise in the [Geospatial Analysis](https://www.kaggle.com/learn/geospatial-analysis) course.  You can reference the tutorial at [this link](https://www.kaggle.com/alexisbcook/coordinate-reference-systems).**\n",
        "\n",
        "---\n"
      ],
      "metadata": {
        "id": "zZMvrrHpk2tB"
      }
    },
    {
      "cell_type": "markdown",
      "source": [
        "# Introduction\n",
        "\n",
        "You are a bird conservation expert and want to understand migration patterns of purple martins.  In your research, you discover that these birds typically spend the summer breeding season in the eastern United States, and then migrate to South America for the winter.  But since this bird is under threat of endangerment, you'd like to take a closer look at the locations that these birds are more likely to visit.\n",
        "\n",
        "<center>\n",
        "<img src=\"https://i.imgur.com/qQcS0KM.png\" width=\"1000\"><br/>\n",
        "</center>\n",
        "\n",
        "There are several [protected areas](https://www.iucn.org/theme/protected-areas/about) in South America, which operate under special regulations to ensure that species that migrate (or live) there have the best opportunity to thrive.  You'd like to know if purple martins tend to visit these areas.  To answer this question, you'll use some recently collected data that tracks the year-round location of eleven different birds.\n",
        "\n",
        "Before you get started, run the code cell below to set everything up."
      ],
      "metadata": {
        "id": "mMiK7eOpk2tG"
      }
    },
    {
      "cell_type": "code",
      "source": [
        "import pandas as pd\n",
        "import geopandas as gpd\n",
        "\n",
        "from shapely.geometry import LineString\n",
        "\n",
        "from learntools.core import binder\n",
        "binder.bind(globals())\n",
        "from learntools.geospatial.ex2 import *"
      ],
      "metadata": {
        "execution": {
          "iopub.status.busy": "2022-05-28T15:51:01.524916Z",
          "iopub.execute_input": "2022-05-28T15:51:01.525455Z",
          "iopub.status.idle": "2022-05-28T15:51:01.532980Z",
          "shell.execute_reply.started": "2022-05-28T15:51:01.525419Z",
          "shell.execute_reply": "2022-05-28T15:51:01.531730Z"
        },
        "trusted": true,
        "id": "rHypghwfk2tI"
      },
      "execution_count": null,
      "outputs": []
    },
    {
      "cell_type": "markdown",
      "source": [
        "# Exercises\n",
        "\n",
        "### 1) Load the data.\n",
        "\n",
        "Run the next code cell (without changes) to load the GPS data into a pandas DataFrame `birds_df`.  "
      ],
      "metadata": {
        "id": "kU0P8Hrsk2tJ"
      }
    },
    {
      "cell_type": "code",
      "source": [
        "# Load the data and print the first 5 rows\n",
        "birds_df = pd.read_csv(\"../input/geospatial-learn-course-data/purple_martin.csv\", parse_dates=['timestamp'])\n",
        "print(\"There are {} different birds in the dataset.\".format(birds_df[\"tag-local-identifier\"].nunique()))\n",
        "birds_df.head()"
      ],
      "metadata": {
        "execution": {
          "iopub.status.busy": "2022-05-28T15:51:03.179719Z",
          "iopub.execute_input": "2022-05-28T15:51:03.180801Z",
          "iopub.status.idle": "2022-05-28T15:51:03.207096Z",
          "shell.execute_reply.started": "2022-05-28T15:51:03.180746Z",
          "shell.execute_reply": "2022-05-28T15:51:03.205858Z"
        },
        "trusted": true,
        "id": "hMjbDji6k2tK"
      },
      "execution_count": null,
      "outputs": []
    },
    {
      "cell_type": "markdown",
      "source": [
        "There are 11 birds in the dataset, where each bird is identified by a unique value in the \"tag-local-identifier\" column.  Each bird has several measurements, collected at different times of the year.\n",
        "\n",
        "Use the next code cell to create a GeoDataFrame `birds`.  \n",
        "- `birds` should have all of the columns from `birds_df`, along with a \"geometry\" column that contains Point objects with (longitude, latitude) locations.  \n",
        "- Set the CRS of `birds` to `{'init': 'epsg:4326'}`."
      ],
      "metadata": {
        "id": "QFvfAMhTk2tK"
      }
    },
    {
      "cell_type": "code",
      "source": [
        "# Create the GeoDataFrame\n",
        "birds = gpd.GeoDataFrame(birds_df, geometry=gpd.points_from_xy(birds_df[\"location-long\"], birds_df[\"location-lat\"]))\n",
        "\n",
        "# Set the CRS to {'init': 'epsg:4326'}\n",
        "birds.crs = {'init' :'epsg:4326'}"
      ],
      "metadata": {
        "execution": {
          "iopub.status.busy": "2022-05-28T15:51:04.109579Z",
          "iopub.execute_input": "2022-05-28T15:51:04.110113Z",
          "iopub.status.idle": "2022-05-28T15:51:04.137234Z",
          "shell.execute_reply.started": "2022-05-28T15:51:04.110073Z",
          "shell.execute_reply": "2022-05-28T15:51:04.135837Z"
        },
        "trusted": true,
        "id": "GrVz_8M7k2tL"
      },
      "execution_count": null,
      "outputs": []
    },
    {
      "cell_type": "markdown",
      "source": [
        "### 2) Plot the data.\n",
        "\n",
        "Next, we load in the `'naturalearth_lowres'` dataset from GeoPandas, and set `americas` to a GeoDataFrame containing the boundaries of all countries in the Americas (both North and South America).  Run the next code cell without changes."
      ],
      "metadata": {
        "id": "KYo2n5I1k2tM"
      }
    },
    {
      "cell_type": "code",
      "source": [
        "# Load a GeoDataFrame with country boundaries in North/South America, print the first 5 rows\n",
        "world = gpd.read_file(gpd.datasets.get_path('naturalearth_lowres'))\n",
        "americas = world.loc[world['continent'].isin(['North America', 'South America'])]\n",
        "americas.head()"
      ],
      "metadata": {
        "execution": {
          "iopub.status.busy": "2022-05-28T15:51:05.035246Z",
          "iopub.execute_input": "2022-05-28T15:51:05.035698Z",
          "iopub.status.idle": "2022-05-28T15:51:05.165672Z",
          "shell.execute_reply.started": "2022-05-28T15:51:05.035649Z",
          "shell.execute_reply": "2022-05-28T15:51:05.164748Z"
        },
        "trusted": true,
        "id": "-280G6pok2tM"
      },
      "execution_count": null,
      "outputs": []
    },
    {
      "cell_type": "markdown",
      "source": [
        "Use the next code cell to create a single plot that shows both: (1) the country boundaries in the `americas` GeoDataFrame, and (2) all of the points in the `birds_gdf` GeoDataFrame.  \n",
        "\n",
        "Don't worry about any special styling here; just create a preliminary plot, as a quick sanity check that all of the data was loaded properly.  In particular, you don't have to worry about color-coding the points to differentiate between birds, and you don't have to differentiate starting points from ending points.  We'll do that in the next part of the exercise."
      ],
      "metadata": {
        "id": "FOe19h80k2tN"
      }
    },
    {
      "cell_type": "code",
      "source": [
        "ax = americas.plot(figsize=(10,10), color='white', linestyle=':', edgecolor='gray')\n",
        "birds.plot(ax=ax, markersize=10)"
      ],
      "metadata": {
        "execution": {
          "iopub.status.busy": "2022-05-28T15:51:06.002104Z",
          "iopub.execute_input": "2022-05-28T15:51:06.002599Z",
          "iopub.status.idle": "2022-05-28T15:51:06.327677Z",
          "shell.execute_reply.started": "2022-05-28T15:51:06.002564Z",
          "shell.execute_reply": "2022-05-28T15:51:06.326451Z"
        },
        "trusted": true,
        "id": "MwOR1tY4k2tO"
      },
      "execution_count": null,
      "outputs": []
    },
    {
      "cell_type": "markdown",
      "source": [
        "### 3) Where does each bird start and end its journey? (Part 1)\n",
        "\n",
        "Now, we're ready to look more closely at each bird's path.  Run the next code cell to create two GeoDataFrames:\n",
        "- `path_gdf` contains LineString objects that show the path of each bird.  It uses the `LineString()` method to create a LineString object from a list of Point objects.\n",
        "- `start_gdf` contains the starting points for each bird."
      ],
      "metadata": {
        "id": "swmpX3smk2tP"
      }
    },
    {
      "cell_type": "code",
      "source": [
        "# GeoDataFrame showing path for each bird\n",
        "path_df = birds.groupby(\"tag-local-identifier\")['geometry'].apply(list).apply(lambda x: LineString(x)).reset_index()\n",
        "path_gdf = gpd.GeoDataFrame(path_df, geometry=path_df.geometry)\n",
        "path_gdf.crs = {'init' :'epsg:4326'}\n",
        "\n",
        "# GeoDataFrame showing starting point for each bird\n",
        "start_df = birds.groupby(\"tag-local-identifier\")['geometry'].apply(list).apply(lambda x: x[0]).reset_index()\n",
        "start_gdf = gpd.GeoDataFrame(start_df, geometry=start_df.geometry)\n",
        "start_gdf.crs = {'init' :'epsg:4326'}\n",
        "\n",
        "# Show first five rows of GeoDataFrame\n",
        "start_gdf.head()"
      ],
      "metadata": {
        "execution": {
          "iopub.status.busy": "2022-05-28T15:51:06.969184Z",
          "iopub.execute_input": "2022-05-28T15:51:06.969991Z",
          "iopub.status.idle": "2022-05-28T15:51:07.060429Z",
          "shell.execute_reply.started": "2022-05-28T15:51:06.969943Z",
          "shell.execute_reply": "2022-05-28T15:51:07.059372Z"
        },
        "trusted": true,
        "id": "KD05QUudk2tP"
      },
      "execution_count": null,
      "outputs": []
    },
    {
      "cell_type": "markdown",
      "source": [
        "Use the next code cell to create a GeoDataFrame `end_gdf` containing the final location of each bird.  \n",
        "- The format should be identical to that of `start_gdf`, with two columns (\"tag-local-identifier\" and \"geometry\"), where the \"geometry\" column contains Point objects.\n",
        "- Set the CRS of `end_gdf` to `{'init': 'epsg:4326'}`."
      ],
      "metadata": {
        "id": "DZ_lWfwbk2tQ"
      }
    },
    {
      "cell_type": "code",
      "source": [
        "end_df = birds.groupby(\"tag-local-identifier\")['geometry'].apply(list).apply(lambda x: x[-1]).reset_index()\n",
        "end_gdf = gpd.GeoDataFrame(end_df, geometry=end_df.geometry)\n",
        "end_gdf.crs = {'init': 'epsg:4326'}"
      ],
      "metadata": {
        "execution": {
          "iopub.status.busy": "2022-05-28T15:51:07.867480Z",
          "iopub.execute_input": "2022-05-28T15:51:07.867938Z",
          "iopub.status.idle": "2022-05-28T15:51:07.906521Z",
          "shell.execute_reply.started": "2022-05-28T15:51:07.867903Z",
          "shell.execute_reply": "2022-05-28T15:51:07.905201Z"
        },
        "trusted": true,
        "id": "-SsRdzQJk2tR"
      },
      "execution_count": null,
      "outputs": []
    },
    {
      "cell_type": "markdown",
      "source": [
        "### 4) Where does each bird start and end its journey? (Part 2)\n",
        "\n",
        "Use the GeoDataFrames from the question above (`path_gdf`, `start_gdf`, and `end_gdf`) to visualize the paths of all birds on a single map.  You may also want to use the `americas` GeoDataFrame."
      ],
      "metadata": {
        "id": "E4D6UngNk2tR"
      }
    },
    {
      "cell_type": "code",
      "source": [
        "ax = americas.plot(figsize=(10, 10), color='white', linestyle=':', edgecolor='gray')\n",
        "\n",
        "start_gdf.plot(ax=ax, color='red',  markersize=30)\n",
        "path_gdf.plot(ax=ax, cmap='tab20b', linestyle='-', linewidth=1, zorder=1)\n",
        "end_gdf.plot(ax=ax, color='black', markersize=30)"
      ],
      "metadata": {
        "execution": {
          "iopub.status.busy": "2022-05-28T15:51:08.831688Z",
          "iopub.execute_input": "2022-05-28T15:51:08.832097Z",
          "iopub.status.idle": "2022-05-28T15:51:09.211821Z",
          "shell.execute_reply.started": "2022-05-28T15:51:08.832067Z",
          "shell.execute_reply": "2022-05-28T15:51:09.210683Z"
        },
        "trusted": true,
        "id": "s3LPZJwok2tS"
      },
      "execution_count": null,
      "outputs": []
    },
    {
      "cell_type": "markdown",
      "source": [
        "### 5) Where are the protected areas in South America? (Part 1)\n",
        "\n",
        "It looks like all of the birds end up somewhere in South America.  But are they going to protected areas?\n",
        "\n",
        "In the next code cell, you'll create a GeoDataFrame `protected_areas` containing the locations of all of the protected areas in South America.  The corresponding shapefile is located at filepath `protected_filepath`."
      ],
      "metadata": {
        "id": "3SszpUH4k2tS"
      }
    },
    {
      "cell_type": "code",
      "source": [
        "# Path of the shapefile to load\n",
        "protected_filepath = \"../input/geospatial-learn-course-data/SAPA_Aug2019-shapefile/SAPA_Aug2019-shapefile/SAPA_Aug2019-shapefile-polygons.shp\"\n",
        "\n",
        "protected_areas = gpd.read_file(protected_filepath)"
      ],
      "metadata": {
        "execution": {
          "iopub.status.busy": "2022-05-28T15:51:09.760217Z",
          "iopub.execute_input": "2022-05-28T15:51:09.760637Z",
          "iopub.status.idle": "2022-05-28T15:51:26.772302Z",
          "shell.execute_reply.started": "2022-05-28T15:51:09.760603Z",
          "shell.execute_reply": "2022-05-28T15:51:26.770986Z"
        },
        "trusted": true,
        "id": "uHgWjZUzk2tU"
      },
      "execution_count": null,
      "outputs": []
    },
    {
      "cell_type": "markdown",
      "source": [
        "### 6) Where are the protected areas in South America? (Part 2)\n",
        "\n",
        "Create a plot that uses the `protected_areas` GeoDataFrame to show the locations of the protected areas in South America.  (_You'll notice that some protected areas are on land, while others are in marine waters._)"
      ],
      "metadata": {
        "id": "oDGt-Adrk2tU"
      }
    },
    {
      "cell_type": "code",
      "source": [
        "# Country boundaries in South America\n",
        "south_america = americas.loc[americas['continent']=='South America']\n",
        "\n",
        "# plot protected areas in South America\n",
        "ax = south_america.plot(figsize=(10,10), color='white', edgecolor='gray')\n",
        "protected_areas.plot(ax=ax, alpha=0.4)"
      ],
      "metadata": {
        "execution": {
          "iopub.status.busy": "2022-05-28T15:51:26.777676Z",
          "iopub.execute_input": "2022-05-28T15:51:26.778596Z",
          "iopub.status.idle": "2022-05-28T15:51:44.744214Z",
          "shell.execute_reply.started": "2022-05-28T15:51:26.778534Z",
          "shell.execute_reply": "2022-05-28T15:51:44.742991Z"
        },
        "trusted": true,
        "id": "l-bmhudfk2tV"
      },
      "execution_count": null,
      "outputs": []
    },
    {
      "cell_type": "markdown",
      "source": [
        "### 7) What percentage of South America is protected?\n",
        "\n",
        "You're interested in determining what percentage of South America is protected, so that you know how much of South America is suitable for the birds.  \n",
        "\n",
        "As a first step, you calculate the total area of all protected lands in South America (not including marine area).  To do this, you use the \"REP_AREA\" and \"REP_M_AREA\" columns, which contain the total area and total marine area, respectively, in square kilometers.\n",
        "\n",
        "Run the code cell below without changes."
      ],
      "metadata": {
        "id": "FPeZ5uDpk2tV"
      }
    },
    {
      "cell_type": "code",
      "source": [
        "P_Area = sum(protected_areas['REP_AREA']-protected_areas['REP_M_AREA'])\n",
        "print(\"South America has {} square kilometers of protected areas.\".format(P_Area))"
      ],
      "metadata": {
        "execution": {
          "iopub.status.busy": "2022-05-28T15:51:44.746300Z",
          "iopub.execute_input": "2022-05-28T15:51:44.747319Z",
          "iopub.status.idle": "2022-05-28T15:51:44.757091Z",
          "shell.execute_reply.started": "2022-05-28T15:51:44.747268Z",
          "shell.execute_reply": "2022-05-28T15:51:44.755917Z"
        },
        "trusted": true,
        "id": "wdlV-0-tk2tW"
      },
      "execution_count": null,
      "outputs": []
    },
    {
      "cell_type": "markdown",
      "source": [
        "Then, to finish the calculation, you'll use the `south_america` GeoDataFrame.  "
      ],
      "metadata": {
        "id": "Cc4GDVC4k2tW"
      }
    },
    {
      "cell_type": "code",
      "source": [
        "south_america.head()"
      ],
      "metadata": {
        "execution": {
          "iopub.status.busy": "2022-05-28T15:51:44.759291Z",
          "iopub.execute_input": "2022-05-28T15:51:44.759721Z",
          "iopub.status.idle": "2022-05-28T15:51:44.794313Z",
          "shell.execute_reply.started": "2022-05-28T15:51:44.759678Z",
          "shell.execute_reply": "2022-05-28T15:51:44.793231Z"
        },
        "trusted": true,
        "id": "-8YwW-6ok2tW"
      },
      "execution_count": null,
      "outputs": []
    },
    {
      "cell_type": "markdown",
      "source": [
        "Calculate the total area of South America by following these steps:\n",
        "- Calculate the area of each country using the `area` attribute of each polygon (with EPSG 3035 as the CRS), and add up the results.  The calculated area will be in units of square meters.\n",
        "- Convert your answer to have units of square kilometeters."
      ],
      "metadata": {
        "id": "elozQ1OMk2tX"
      }
    },
    {
      "cell_type": "code",
      "source": [
        "# Calculate the total area of South America (in square kilometers)\n",
        "totalArea = sum(south_america.geometry.to_crs(epsg=3035).area) / 10**6"
      ],
      "metadata": {
        "execution": {
          "iopub.status.busy": "2022-05-28T15:51:44.795806Z",
          "iopub.execute_input": "2022-05-28T15:51:44.796532Z",
          "iopub.status.idle": "2022-05-28T15:51:44.908340Z",
          "shell.execute_reply.started": "2022-05-28T15:51:44.796487Z",
          "shell.execute_reply": "2022-05-28T15:51:44.907145Z"
        },
        "trusted": true,
        "id": "OAinjuYvk2tX"
      },
      "execution_count": null,
      "outputs": []
    },
    {
      "cell_type": "markdown",
      "source": [
        "Run the code cell below to calculate the percentage of South America that is protected."
      ],
      "metadata": {
        "id": "nroGw19_k2tX"
      }
    },
    {
      "cell_type": "code",
      "source": [
        "# What percentage of South America is protected?\n",
        "percentage_protected = P_Area/totalArea\n",
        "print('Approximately {}% of South America is protected.'.format(round(percentage_protected*100, 2)))"
      ],
      "metadata": {
        "execution": {
          "iopub.status.busy": "2022-05-28T15:51:44.910145Z",
          "iopub.execute_input": "2022-05-28T15:51:44.910554Z",
          "iopub.status.idle": "2022-05-28T15:51:44.919944Z",
          "shell.execute_reply.started": "2022-05-28T15:51:44.910519Z",
          "shell.execute_reply": "2022-05-28T15:51:44.918700Z"
        },
        "trusted": true,
        "id": "NU6Kt94Qk2tY"
      },
      "execution_count": null,
      "outputs": []
    },
    {
      "cell_type": "markdown",
      "source": [
        "### 8) Where are the birds in South America?\n",
        "\n",
        "So, are the birds in protected areas?  \n",
        "\n",
        "Create a plot that shows for all birds, all of the locations where they were discovered in South America.  Also plot the locations of all protected areas in South America.\n",
        "\n",
        "To exclude protected areas that are purely marine areas (with no land component), you can use the \"MARINE\" column (and plot only the rows in `protected_areas[protected_areas['MARINE']!='2']`, instead of every row in the `protected_areas` GeoDataFrame)."
      ],
      "metadata": {
        "id": "kJZsPxBrk2tY"
      }
    },
    {
      "cell_type": "code",
      "source": [
        "ax = south_america.plot(figsize=(10,10), color='white', edgecolor='gray')\n",
        "protected_areas[protected_areas['MARINE']!='2'].plot(ax=ax, alpha=0.4, zorder=1)\n",
        "birds[birds.geometry.y < 0].plot(ax=ax, color='red', alpha=0.6, markersize=10, zorder=2)"
      ],
      "metadata": {
        "execution": {
          "iopub.status.busy": "2022-05-28T15:51:44.921473Z",
          "iopub.execute_input": "2022-05-28T15:51:44.921870Z",
          "iopub.status.idle": "2022-05-28T15:52:00.239926Z",
          "shell.execute_reply.started": "2022-05-28T15:51:44.921835Z",
          "shell.execute_reply": "2022-05-28T15:52:00.238902Z"
        },
        "trusted": true,
        "id": "4fiCGsEUk2tY"
      },
      "execution_count": null,
      "outputs": []
    },
    {
      "cell_type": "markdown",
      "source": [
        "# Keep going\n",
        "\n",
        "Create stunning **[interactive maps](https://www.kaggle.com/alexisbcook/interactive-maps)** with your geospatial data."
      ],
      "metadata": {
        "id": "l7QevdnVk2tY"
      }
    },
    {
      "cell_type": "markdown",
      "source": [
        "---\n",
        "\n",
        "\n",
        "\n",
        "\n",
        "*Have questions or comments? Visit the [course discussion forum](https://www.kaggle.com/learn/geospatial-analysis/discussion) to chat with other learners.*"
      ],
      "metadata": {
        "id": "omS9QVzYk2tY"
      }
    }
  ]
}